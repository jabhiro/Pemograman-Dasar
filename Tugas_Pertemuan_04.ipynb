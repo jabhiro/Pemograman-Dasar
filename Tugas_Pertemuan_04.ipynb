{
  "nbformat": 4,
  "nbformat_minor": 0,
  "metadata": {
    "colab": {
      "provenance": [],
      "authorship_tag": "ABX9TyNYbkBShGxSrFYktgP0hLPv",
      "include_colab_link": true
    },
    "kernelspec": {
      "name": "python3",
      "display_name": "Python 3"
    },
    "language_info": {
      "name": "python"
    }
  },
  "cells": [
    {
      "cell_type": "markdown",
      "metadata": {
        "id": "view-in-github",
        "colab_type": "text"
      },
      "source": [
        "<a href=\"https://colab.research.google.com/github/jabhiro/Pemograman-Dasar/blob/main/Tugas_Pertemuan_04.ipynb\" target=\"_parent\"><img src=\"https://colab.research.google.com/assets/colab-badge.svg\" alt=\"Open In Colab\"/></a>"
      ]
    },
    {
      "cell_type": "code",
      "execution_count": 10,
      "metadata": {
        "colab": {
          "base_uri": "https://localhost:8080/"
        },
        "id": "Hqo_Pg_xKvj_",
        "outputId": "ccbebaf5-0551-4bdd-f31a-dba0634354d3"
      },
      "outputs": [
        {
          "output_type": "stream",
          "name": "stdout",
          "text": [
            "==============================\n",
            "Selamat datang di Cafe Jabhiro\n",
            "------------------------------\n",
            "Menu makanan dan minuman\n",
            "1. Kopi Hitam  - Rp 12.000\n",
            "2. Teh Manis   - Rp 8.000\n",
            "3. Roti Bakar  - Rp 15.000\n",
            "4. Mie Instan  - Rp 10.000\n",
            "==============================\n",
            "Silakan masukkan nomor pilihan Anda (1-4): 1\n",
            "------------------------------\n",
            "Masukkan jumlah pesanan: 2\n",
            "Total sebelum diskon : Rp 24000\n",
            "Diskon 30%          : Rp 7200\n",
            "Total yang harus dibayar : Rp 16800\n",
            "------------------------------\n",
            "Masukkan jumlah uang Anda: Rp 50000\n",
            "\n",
            "Struk Pembayaran\n",
            "Pesanan Anda   : Kopi Hitam (2x)\n",
            "Total Harga    : Rp 24000\n",
            "Diskon         : 30%\n",
            "Total Bayar    : Rp 16800\n",
            "Uang Dibayar   : Rp 50000\n",
            "Uang Kembalian : Rp 33200\n",
            "..............................\n",
            "Terimakasih telah berbelanja di Cafe Jabhiro\n",
            "==============================\n"
          ]
        }
      ],
      "source": [
        "print(\"=\" * 30)\n",
        "print(\"Selamat datang di Cafe Jabhiro\")\n",
        "print(\"-\" * 30)\n",
        "print(\"Menu makanan dan minuman\")\n",
        "print(\"1. Kopi Hitam  - Rp 12.000\")\n",
        "print(\"2. Teh Manis   - Rp 8.000\")\n",
        "print(\"3. Roti Bakar  - Rp 15.000\")\n",
        "print(\"4. Mie Instan  - Rp 10.000\")\n",
        "print(\"=\" * 30)\n",
        "\n",
        "pilihan_str: str = input(\"Silakan masukkan nomor pilihan Anda (1-4): \")\n",
        "pilihan: int = int(pilihan_str)\n",
        "nama_pesanan: str = \"\"\n",
        "harga: int = 0\n",
        "\n",
        "# Menentukan pesanan\n",
        "if pilihan == 1:\n",
        "    nama_pesanan = \"Kopi Hitam\"\n",
        "    harga = 12000\n",
        "elif pilihan == 2:\n",
        "    nama_pesanan = \"Teh Manis\"\n",
        "    harga = 8000\n",
        "elif pilihan == 3:\n",
        "    nama_pesanan = \"Roti Bakar\"\n",
        "    harga = 15000\n",
        "elif pilihan == 4:\n",
        "    nama_pesanan = \"Mie Instan\"\n",
        "    harga = 10000\n",
        "else:\n",
        "    print(\"Maaf, pilihan menu tidak valid, silakan jalankan ulang program.\")\n",
        "\n",
        "# Jika harga valid\n",
        "if harga > 0:\n",
        "    print(\"-\" * 30)\n",
        "    jumlah_str = input(\"Masukkan jumlah pesanan: \")\n",
        "    jumlah: int = int(jumlah_str)\n",
        "    total = harga * jumlah\n",
        "\n",
        "    # Menentukan diskon\n",
        "    if total > 50000:\n",
        "        diskon_persen = 70\n",
        "    elif total > 30000:\n",
        "        diskon_persen = 50\n",
        "    elif total > 15000:\n",
        "        diskon_persen = 30\n",
        "    else:\n",
        "        diskon_persen = 0\n",
        "\n",
        "    potongan = (diskon_persen / 100) * total\n",
        "    total_bayar = total - potongan\n",
        "\n",
        "    print(f\"Total sebelum diskon : Rp {total}\")\n",
        "    print(f\"Diskon {diskon_persen}%          : Rp {int(potongan)}\")\n",
        "    print(f\"Total yang harus dibayar : Rp {int(total_bayar)}\")\n",
        "    print(\"-\" * 30)\n",
        "\n",
        "    uang_dibayar_str: str = input(\"Masukkan jumlah uang Anda: Rp \")\n",
        "    uang_dibayar: int = int(uang_dibayar_str)\n",
        "\n",
        "    if uang_dibayar >= total_bayar:\n",
        "        kembalian: int = uang_dibayar - total_bayar\n",
        "        print(\"\\nStruk Pembayaran\")\n",
        "        print(f\"Pesanan Anda   : {nama_pesanan} ({jumlah}x)\")\n",
        "        print(f\"Total Harga    : Rp {total}\")\n",
        "        print(f\"Diskon         : {diskon_persen}%\")\n",
        "        print(f\"Total Bayar    : Rp {int(total_bayar)}\")\n",
        "        print(f\"Uang Dibayar   : Rp {uang_dibayar}\")\n",
        "        print(f\"Uang Kembalian : Rp {int(kembalian)}\")\n",
        "        print(\"..............................\")\n",
        "        print(\"Terimakasih telah berbelanja di Cafe Jabhiro\")\n",
        "    else:\n",
        "        kekurangan: int = total_bayar - uang_dibayar\n",
        "        print(f\"Maaf, uang Anda kurang sebesar Rp {int(kekurangan)}\")\n",
        "\n",
        "print(\"=\" * 30)\n"
      ]
    },
    {
      "cell_type": "code",
      "source": [],
      "metadata": {
        "id": "BiB-LNJpOOKt"
      },
      "execution_count": null,
      "outputs": []
    }
  ]
}