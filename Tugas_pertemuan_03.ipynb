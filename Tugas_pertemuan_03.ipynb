{
  "nbformat": 4,
  "nbformat_minor": 0,
  "metadata": {
    "colab": {
      "provenance": [],
      "authorship_tag": "ABX9TyO0SHBdOqzPJYeLORyzcR/7",
      "include_colab_link": true
    },
    "kernelspec": {
      "name": "python3",
      "display_name": "Python 3"
    },
    "language_info": {
      "name": "python"
    }
  },
  "cells": [
    {
      "cell_type": "markdown",
      "metadata": {
        "id": "view-in-github",
        "colab_type": "text"
      },
      "source": [
        "<a href=\"https://colab.research.google.com/github/jabhiro/Pemograman-Dasar/blob/main/Tugas_pertemuan_03.ipynb\" target=\"_parent\"><img src=\"https://colab.research.google.com/assets/colab-badge.svg\" alt=\"Open In Colab\"/></a>"
      ]
    },
    {
      "cell_type": "code",
      "execution_count": 20,
      "metadata": {
        "id": "GgE00C33HTIN",
        "colab": {
          "base_uri": "https://localhost:8080/"
        },
        "outputId": "e20e78b5-1974-4411-adfd-5ae4a6f0e460"
      },
      "outputs": [
        {
          "output_type": "stream",
          "name": "stdout",
          "text": [
            "Jumlah Kopi Hitam (Rp 10.000): 3\n",
            "Jumlah Kopi Luwak (Rp 13.000): 1\n",
            "Jumlah Cappucino (Rp 15.000): 3\n",
            "Member? (1=Ya, 0=Tidak): 1\n",
            "Kopi_Hitam x3: Rp. 30,000\n",
            "Kopi_Luwak x1: Rp. 13,000\n",
            "Cappucino x3: Rp. 45,000\n",
            "--------\n",
            "subtotal        : Rp. 88,000\n",
            "Diskon          : Rp. 13,200\n",
            "Setelah Diskon : Rp. 74,800\n",
            "PPN 11%         : Rp. 8,228\n",
            "Total Bayar     : Rp. 83,028\n"
          ]
        }
      ],
      "source": [
        "# Program Kasir Sederhana ( Jabbie )\n",
        "# Input Menu\n",
        "Kopi_Hitam = int(input(\"Jumlah Kopi Hitam (Rp 10.000): \"))\n",
        "Kopi_Luwak = int(input(\"Jumlah Kopi Luwak (Rp 13.000): \"))\n",
        "Cappucino = int(input(\"Jumlah Cappucino (Rp 15.000): \"))\n",
        "\n",
        "# Input status member\n",
        "member = int(input(\"Member? (1=Ya, 0=Tidak): \"))\n",
        "\n",
        "# Harga Menu\n",
        "harga_Kopi_Hitam = 10000\n",
        "harga_Kopi_Luwak = 13000\n",
        "harga_Cappucino = 15000\n",
        "\n",
        "# Hitung jumlah pembelian\n",
        "subtotal =  (Kopi_Hitam * harga_Kopi_Hitam) + \\\n",
        "            (Kopi_Luwak * harga_Kopi_Luwak) + \\\n",
        "            (Cappucino * harga_Cappucino)\n",
        "\n",
        "# Syarat Diskon\n",
        "syarat_diskon = (subtotal > 70000)\n",
        "\n",
        "# Jumlah diskon\n",
        "diskon = syarat_diskon * 0.15 * subtotal\n",
        "\n",
        "# Harga setelah diskon\n",
        "setelah_diskon = subtotal - diskon\n",
        "\n",
        "# Menghitung PPN (11%)\n",
        "ppn = 0.11 * setelah_diskon\n",
        "\n",
        "# Total yang harus dibayarkan\n",
        "total = setelah_diskon + ppn\n",
        "\n",
        "\n",
        "print(f\"Kopi_Hitam x{Kopi_Hitam}: Rp. {(Kopi_Hitam * harga_Kopi_Hitam):,.0f}\")\n",
        "print(f\"Kopi_Luwak x{Kopi_Luwak}: Rp. {(Kopi_Luwak * harga_Kopi_Luwak):,.0f}\")\n",
        "print(f\"Cappucino x{Cappucino}: Rp. {(Cappucino * harga_Cappucino):,.0f}\")\n",
        "print(\"--------\")\n",
        "print(f\"subtotal        : Rp. {subtotal:,.0f}\")\n",
        "print(f\"Diskon          : Rp. {diskon:,.0f}\")\n",
        "print(f\"Setelah Diskon : Rp. {setelah_diskon:,.0f}\")\n",
        "print(f\"PPN 11%         : Rp. {ppn:,.0f}\")\n",
        "print(f\"Total Bayar     : Rp. {total:,.0f}\")"
      ]
    }
  ]
}