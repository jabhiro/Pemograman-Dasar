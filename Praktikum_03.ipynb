{
  "nbformat": 4,
  "nbformat_minor": 0,
  "metadata": {
    "colab": {
      "provenance": [],
      "authorship_tag": "ABX9TyMXs3uhS0aGJAW/29sxGuNH",
      "include_colab_link": true
    },
    "kernelspec": {
      "name": "python3",
      "display_name": "Python 3"
    },
    "language_info": {
      "name": "python"
    }
  },
  "cells": [
    {
      "cell_type": "markdown",
      "metadata": {
        "id": "view-in-github",
        "colab_type": "text"
      },
      "source": [
        "<a href=\"https://colab.research.google.com/github/jabhiro/Pemograman-Dasar/blob/main/Praktikum_03.ipynb\" target=\"_parent\"><img src=\"https://colab.research.google.com/assets/colab-badge.svg\" alt=\"Open In Colab\"/></a>"
      ]
    },
    {
      "cell_type": "code",
      "source": [
        "#1\n",
        "total = float(input(\"Berapa porsi makan yang anda beli? : \"))\n",
        "Nama = str(input(\"Siapa Nama Pelanggan ? : \"))\n",
        "\n",
        "print('--Detail Pembelian--')\n",
        "print(\"Nama Pelanggan :\", Nama)\n",
        "print(\"Total Porsi :\", total)"
      ],
      "metadata": {
        "id": "WX_f6kyf6Mow",
        "colab": {
          "base_uri": "https://localhost:8080/"
        },
        "outputId": "79f8f0f9-5229-4b40-a170-1b5f291690c4"
      },
      "execution_count": 3,
      "outputs": [
        {
          "output_type": "stream",
          "name": "stdout",
          "text": [
            "Berapa porsi makan yang anda beli? : 99\n",
            "Siapa Nama Pelanggan ? : Jabhiro\n",
            "--Detail Pembelian--\n",
            "Nama Pelanggan : Jabhiro\n",
            "Total Porsi : 99.0\n"
          ]
        }
      ]
    },
    {
      "cell_type": "code",
      "source": [
        "#2\n",
        "food = \"Dendeng\"\n",
        "jumlah_porsi = 5\n",
        "harga = 70\n",
        "\n",
        "# integer (%)\n",
        "jumlah_porsi = 5\n",
        "print(\"Jabhiro sedang memesan = %d porsi\" % (jumlah_porsi))\n",
        "# Float (%f)\n",
        "print(f\"Harga per-porsi = Rp. {harga:3f}\")\n",
        "# String (%s)\n",
        "print(\"Jabhiro sangat menyukai %s\" % food)\n",
        "# Hexadecimal (%x)\n",
        "print(\"Jumlah pesanan (hexa) = %x\" % jumlah_porsi)\n",
        "# Octal (%o)\n",
        "print(\"Jumlah pesanan (octal) = %o\" % jumlah_porsi)\n"
      ],
      "metadata": {
        "id": "5Mg7tNsj66jR",
        "colab": {
          "base_uri": "https://localhost:8080/"
        },
        "outputId": "8a670d2d-3cde-46d8-8544-24622adcafd3"
      },
      "execution_count": 13,
      "outputs": [
        {
          "output_type": "stream",
          "name": "stdout",
          "text": [
            "Jabhiro sedang memesan = 5 porsi\n",
            "Harga per-porsi = Rp. 70.000000\n",
            "Jabhiro sangat menyukai Dendeng\n",
            "Jumlah pesanan (hexa) = 5\n",
            "Jumlah pesanan (octal) = 5\n"
          ]
        }
      ]
    },
    {
      "cell_type": "code",
      "source": [
        "#3_Kalkulator Sederhana\n",
        "a = 20\n",
        "b = 5\n",
        "print(\"Penjumlahan:\", a + b)\n",
        "print(\"Pengurangan:\", a - b)\n",
        "print(\"Perkalian:\", a * b)\n",
        "print(\"Pembagian:\", a / b)"
      ],
      "metadata": {
        "id": "jxzWICDw7itW",
        "colab": {
          "base_uri": "https://localhost:8080/"
        },
        "outputId": "efce919b-07db-4b81-8a24-24dcb7f41e47"
      },
      "execution_count": 14,
      "outputs": [
        {
          "output_type": "stream",
          "name": "stdout",
          "text": [
            "Penjumlahan: 25\n",
            "Pengurangan: 15\n",
            "Perkalian: 100\n",
            "Pembagian: 4.0\n"
          ]
        }
      ]
    },
    {
      "cell_type": "code",
      "source": [
        "#4_Kalkulator Kasir\n",
        "harga_makan = float(input(\"Berapa harga burger per porsi?\"))\n",
        "jumlah_makan = int(input(\"Berapa porsi yang Jabhiro beli?\"))\n",
        "total_makan = harga_makan * jumlah_makan\n",
        "nama = str(input(\"nama pembeli?\"))\n",
        "\n",
        "print(\"--Detail Pembelian--\")\n",
        "print(f\"Nama Pembeli = {nama}\")\n",
        "print(f\"Total Pembelian = Rp. {total_makan:,.0f}\")\n",
        "\n"
      ],
      "metadata": {
        "id": "GoIwgEhf7R-H",
        "colab": {
          "base_uri": "https://localhost:8080/"
        },
        "outputId": "fa7e9c4a-aff0-4d1e-c411-5ad12fcee4d6"
      },
      "execution_count": 21,
      "outputs": [
        {
          "output_type": "stream",
          "name": "stdout",
          "text": [
            "Berapa harga burger per porsi?27000\n",
            "Berapa porsi yang Jabhiro beli?3\n",
            "nama pembeli?Jabhiro\n",
            "--Detail Pembelian--\n",
            "Nama Pembeli = Jabhiro\n",
            "Total Pembelian = Rp. 81,000\n"
          ]
        }
      ]
    },
    {
      "cell_type": "code",
      "source": [
        "#5_Mengecek bilangan\n",
        "bilangan = 8\n",
        "hasil = (bilangan > 0) and (bilangan % 2 == 0)\n",
        "print(\"Genap dan positif?\", hasil)"
      ],
      "metadata": {
        "id": "rPhrm4yL8i6Q",
        "colab": {
          "base_uri": "https://localhost:8080/"
        },
        "outputId": "aaeecfdb-c26f-4519-bba6-4ad9047ab9af"
      },
      "execution_count": 22,
      "outputs": [
        {
          "output_type": "stream",
          "name": "stdout",
          "text": [
            "Genap dan positif? True\n"
          ]
        }
      ]
    },
    {
      "cell_type": "code",
      "source": [
        "#6_Menghitung nilai akhir mahasiswa\n",
        "tugas = 80\n",
        "uts = 70\n",
        "uas = 90\n",
        "nilai_akhir = (0.3 * tugas) + (0.3 * uts) + (0.4 * uas)\n",
        "print(\"Nilai akhir =\", nilai_akhir)"
      ],
      "metadata": {
        "id": "4mNSpUg-9enB",
        "colab": {
          "base_uri": "https://localhost:8080/"
        },
        "outputId": "9a7da279-7ea9-425c-ca0c-b5ec10d13444"
      },
      "execution_count": 23,
      "outputs": [
        {
          "output_type": "stream",
          "name": "stdout",
          "text": [
            "Nilai akhir = 81.0\n"
          ]
        }
      ]
    },
    {
      "cell_type": "code",
      "source": [
        "#7_konversi waktu\n",
        "total_detik = int(input(\"Masukkan total detik: \"))\n",
        "\n",
        "jam = total_detik // 3600\n",
        "\n",
        "sisa_detik = total_detik % 3600\n",
        "\n",
        "menit = sisa_detik // 60\n",
        "\n",
        "detik = sisa_detik % 60\n",
        "\n",
        "print(f\"Hasil konversi: {jam} jam, {menit} menit, {detik} detik\")"
      ],
      "metadata": {
        "id": "Pdjl--y69TWN",
        "colab": {
          "base_uri": "https://localhost:8080/"
        },
        "outputId": "bc55e9f3-fb7d-440d-9a21-3264a97187eb"
      },
      "execution_count": 26,
      "outputs": [
        {
          "output_type": "stream",
          "name": "stdout",
          "text": [
            "Masukkan total detik: 123980\n",
            "Hasil konversi: 34 jam, 26 menit, 20 detik\n"
          ]
        }
      ]
    },
    {
      "cell_type": "code",
      "source": [
        "nilai_mahasiswa = 81\n",
        "standar_kelulusan = 79\n",
        "apakah_lulus = 81 >= 79\n",
        "perlu_remedial = 81 < 79\n",
        "print(f\"Nilai Mahasiswa: {nilai_mahasiswa}\")\n",
        "print(f\"Standar kelulusan: {standar_kelulusan}\")\n",
        "print(f\"Apakah Mahasiswa lulus? {apakah_lulus}\")\n",
        "print(f\"Perlu Remedial? {perlu_remedial}\")\n"
      ],
      "metadata": {
        "id": "mn2Jh8TJ-bWT",
        "colab": {
          "base_uri": "https://localhost:8080/"
        },
        "outputId": "cd12c5f3-fba3-4a21-fd01-0f569bd34dac"
      },
      "execution_count": 28,
      "outputs": [
        {
          "output_type": "stream",
          "name": "stdout",
          "text": [
            "Nilai Mahasiswa: 81\n",
            "Standar kelulusan: 79\n",
            "Apakah Mahasiswa lulus? True\n",
            "Perlu Remedial? False\n"
          ]
        }
      ]
    },
    {
      "cell_type": "code",
      "source": [
        "#8_Menghitung Nilai akhir mahasiswa\n",
        "# Menghitung nilai akhir mahasiswa\n",
        "nama = str(input(\"Masukkan nama mahasiswa: \"))\n",
        "nim = str(input(\"Masukkan NIM : \"))\n",
        "prodi = str(input(\"Masukkan program studi mahasiswa: \"))\n",
        "tugas = float(input(\"Masukkan nilai Tugas: \"))\n",
        "kuis = float(input(\"Masukkan nilai Kuis: \"))\n",
        "praktikum = float(input(\"Masukkan nilai Praktikum: \"))\n",
        "partisipatif = float(input(\"Masukkan nilai Kehadiran: \"))\n",
        "uts = float(input(\"Masukkan nilai UTS: \"))\n",
        "uas = float(input(\"Masukkan nilai UAS: \"))\n",
        "\n",
        "# Standar kelulusan\n",
        "standar_kelulusan = float(input(\"Masukkan standar kelulusan: \"))\n",
        "\n",
        "# Hitung nilai akhir (bobot tergantung aturan kampus)\n",
        "nilai_mahasiswa = (0.2 * tugas) + (0.1 * kuis) + (0.1 * praktikum) + (0.2 * uts) + (0.3 * uas) + (0.1 * partisipatif)\n",
        "print(\"Nilai Akhir: \", nilai_mahasiswa)\n",
        "\n",
        "# Keterangan kelulusan\n",
        "apakah_lulus = nilai_mahasiswa >= standar_kelulusan\n",
        "perlu_remedial = nilai_mahasiswa < standar_kelulusan\n",
        "print(\"--DATA KELULUSAN MAHASISWA--\")\n",
        "print(f\"Nama              : {nama}\")\n",
        "print(f\"NIM               : {nim}\")\n",
        "print(f\"Program Studi     : {prodi}\")\n",
        "print(f\"Nilai Akhir       : {nilai_mahasiswa}\")\n",
        "print(f\"Standar Kelulusan : {standar_kelulusan}\")\n",
        "print(f\"Status Kelulusan  : {apakah_lulus}\")\n",
        "print(f\"Remedial          : {perlu_remedial}\")"
      ],
      "metadata": {
        "id": "Ms3c9qyd_sob",
        "colab": {
          "base_uri": "https://localhost:8080/"
        },
        "outputId": "c5405a8c-15d9-4102-c6b2-a41144f7694d"
      },
      "execution_count": 1,
      "outputs": [
        {
          "output_type": "stream",
          "name": "stdout",
          "text": [
            "Masukkan nama mahasiswa: Rajab Mulya Kurnia Rachman\n",
            "Masukkan NIM : 4232411003\n",
            "Masukkan program studi mahasiswa: RPE\n",
            "Masukkan nilai Tugas: 93\n",
            "Masukkan nilai Kuis: 87\n",
            "Masukkan nilai Praktikum: 89\n",
            "Masukkan nilai Kehadiran: 100\n",
            "Masukkan nilai UTS: 99\n",
            "Masukkan nilai UAS: 100\n",
            "Masukkan standar kelulusan: 80\n",
            "Nilai Akhir:  96.0\n",
            "--DATA KELULUSAN MAHASISWA--\n",
            "Nama              : Rajab Mulya Kurnia Rachman\n",
            "NIM               : 4232411003\n",
            "Program Studi     : RPE\n",
            "Nilai Akhir       : 96.0\n",
            "Standar Kelulusan : 80.0\n",
            "Status Kelulusan  : True\n",
            "Remedial          : False\n"
          ]
        }
      ]
    },
    {
      "cell_type": "code",
      "source": [],
      "metadata": {
        "id": "E-IFGJsgAd7r"
      },
      "execution_count": null,
      "outputs": []
    }
  ]
}