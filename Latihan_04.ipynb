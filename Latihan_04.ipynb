{
  "nbformat": 4,
  "nbformat_minor": 0,
  "metadata": {
    "colab": {
      "provenance": [],
      "authorship_tag": "ABX9TyOTckvXGe/ZBI5EC3JwFuU+",
      "include_colab_link": true
    },
    "kernelspec": {
      "name": "python3",
      "display_name": "Python 3"
    },
    "language_info": {
      "name": "python"
    }
  },
  "cells": [
    {
      "cell_type": "markdown",
      "metadata": {
        "id": "view-in-github",
        "colab_type": "text"
      },
      "source": [
        "<a href=\"https://colab.research.google.com/github/jabhiro/Pemograman-Dasar/blob/main/Latihan_04.ipynb\" target=\"_parent\"><img src=\"https://colab.research.google.com/assets/colab-badge.svg\" alt=\"Open In Colab\"/></a>"
      ]
    },
    {
      "cell_type": "code",
      "execution_count": 3,
      "metadata": {
        "colab": {
          "base_uri": "https://localhost:8080/"
        },
        "id": "PTP26iyOCsGu",
        "outputId": "11d75fa0-226d-4194-f5d0-a0c690e434c7"
      },
      "outputs": [
        {
          "output_type": "stream",
          "name": "stdout",
          "text": [
            "Masukkan sebuah angka: 4\n",
            "Bukan Kelipatan 5\n"
          ]
        }
      ],
      "source": [
        "# Soal no 1\n",
        "angka = int(input(\"Masukkan sebuah angka: \"))\n",
        "if angka % 5 == 0:\n",
        "  print(\"Kelipatan 5\")\n",
        "else:\n",
        "  print(\"Bukan Kelipatan 5\")"
      ]
    },
    {
      "cell_type": "code",
      "source": [
        "# Soal no 2\n",
        "tahun = int(input(\"Masukkan tahun: \"))\n",
        "\n",
        "if tahun % 400 == 0:\n",
        "    print(\"Tahun Kabisat\")\n",
        "elif tahun % 4 == 0 and tahun % 100 != 0:\n",
        "    print(\"Tahun Kabisat\")\n",
        "else:\n",
        "    print(\"Bukan Tahun Kabisat\")"
      ],
      "metadata": {
        "colab": {
          "base_uri": "https://localhost:8080/"
        },
        "id": "3yOd9AlIFSv8",
        "outputId": "882dcd25-184e-489a-bd5c-b5fc11ceb411"
      },
      "execution_count": 5,
      "outputs": [
        {
          "output_type": "stream",
          "name": "stdout",
          "text": [
            "Masukkan tahun: 5\n",
            "Bukan Tahun Kabisat\n"
          ]
        }
      ]
    },
    {
      "cell_type": "code",
      "source": [
        "# Soal no 3\n",
        "angka = int(input(\"Masukkan bilangan: \"))\n",
        "if angka >= 0:\n",
        "  print(\"Bilangan Positif\")\n",
        "elif angka <= 0:\n",
        "  print(\"Bilangan Negatif\")\n",
        "else:\n",
        "  print(\"Bilangan Nol\")"
      ],
      "metadata": {
        "colab": {
          "base_uri": "https://localhost:8080/"
        },
        "id": "jde9_Ff1FW9f",
        "outputId": "7957a07d-7d27-4fc4-d450-56de912e9006"
      },
      "execution_count": 9,
      "outputs": [
        {
          "output_type": "stream",
          "name": "stdout",
          "text": [
            "Masukkan bilangan: 3\n",
            "Bilangan Positif\n"
          ]
        }
      ]
    },
    {
      "cell_type": "code",
      "source": [
        "# Soal no 4\n",
        "bulan = int(input(\"Masukkan bulan: \"))\n",
        "if bulan == 1:\n",
        "  print(\"Januari\")\n",
        "elif bulan == 2:\n",
        "  print(\"Februari\")\n",
        "elif bulan == 3:\n",
        "  print(\"Maret\")\n",
        "elif bulan == 4:\n",
        "  print(\"April\")\n",
        "elif bulan == 5:\n",
        "  print(\"Mei\")\n",
        "elif bulan == 6:\n",
        "  print(\"Juni\")\n",
        "elif bulan == 7:\n",
        "  print(\"Juli\")\n",
        "elif bulan == 8:\n",
        "  print(\"Agustus\")\n",
        "elif bulan == 9:\n",
        "  print(\"September\")\n",
        "elif bulan == 10:\n",
        "  print(\"Oktober\")\n",
        "elif bulan == 11:\n",
        "  print(\"November\")\n",
        "elif bulan == 12:\n",
        "  print(\"Desember\")\n",
        "else:\n",
        "  print(\"Bulan tidak ditemukan\")"
      ],
      "metadata": {
        "colab": {
          "base_uri": "https://localhost:8080/"
        },
        "id": "fDgo1Hw7GGZr",
        "outputId": "6a186175-a0ae-4ec3-eaf6-a72b5fe41efa"
      },
      "execution_count": 11,
      "outputs": [
        {
          "output_type": "stream",
          "name": "stdout",
          "text": [
            "Masukkan bulan: 1\n",
            "Januari\n"
          ]
        }
      ]
    },
    {
      "cell_type": "code",
      "source": [
        "# Soal no 5\n",
        "jam = int(input(\"Masukkan jam: \"))\n",
        "if jam >= 0 and jam < 12:\n",
        "  print(\"Selamat Pagi\")\n",
        "elif jam >= 12 and jam < c16:\n",
        "  print(\"Selamat Siang\")\n",
        "elif jam >= 16 and jam < 19:\n",
        "  print(\"Selamat Sore\")\n",
        "elif jam >= 19 and jam < 24:\n",
        "  print(\"Selamat Malam\")\n",
        "else:\n",
        "  print(\"Jam tidak ditemukan\")"
      ],
      "metadata": {
        "colab": {
          "base_uri": "https://localhost:8080/"
        },
        "id": "MkKz8SaGIGnE",
        "outputId": "548ee2d2-7445-46c4-cd01-5682a999aba7"
      },
      "execution_count": 13,
      "outputs": [
        {
          "output_type": "stream",
          "name": "stdout",
          "text": [
            "Masukkan jam: 1\n",
            "Selamat Pagi\n"
          ]
        }
      ]
    },
    {
      "cell_type": "code",
      "source": [],
      "metadata": {
        "id": "5c0gAXdOIYkK"
      },
      "execution_count": null,
      "outputs": []
    }
  ]
}