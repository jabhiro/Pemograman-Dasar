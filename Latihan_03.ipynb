{
  "nbformat": 4,
  "nbformat_minor": 0,
  "metadata": {
    "colab": {
      "provenance": [],
      "authorship_tag": "ABX9TyNd9HvkVgDyYLVrdKcyWc56",
      "include_colab_link": true
    },
    "kernelspec": {
      "name": "python3",
      "display_name": "Python 3"
    },
    "language_info": {
      "name": "python"
    }
  },
  "cells": [
    {
      "cell_type": "markdown",
      "metadata": {
        "id": "view-in-github",
        "colab_type": "text"
      },
      "source": [
        "<a href=\"https://colab.research.google.com/github/jabhiro/Pemograman-Dasar/blob/main/Latihan_03.ipynb\" target=\"_parent\"><img src=\"https://colab.research.google.com/assets/colab-badge.svg\" alt=\"Open In Colab\"/></a>"
      ]
    },
    {
      "cell_type": "code",
      "source": [
        "# Latihan 1\n",
        "# Program Menentukan Tahun Kabisat dengan Operator Aritmatika\n",
        "\n",
        "# Input\n",
        "tahun = int(input(\"Masukkan tahun: \"))\n",
        "\n",
        "# Proses menggunakan operator aritmatika (%)\n",
        "if (tahun % 4 == 0 and tahun % 100 != 0) or (tahun % 400 == 0):\n",
        "\n",
        "# Output\n",
        "    print(f\"Tahun {tahun} adalah tahun kabisat.\")\n",
        "else:\n",
        "    print(f\"Tahun {tahun} bukan tahun kabisat.\")\n"
      ],
      "metadata": {
        "colab": {
          "base_uri": "https://localhost:8080/"
        },
        "id": "hmSPlGd7EmTo",
        "outputId": "e5ff225f-77f9-451e-8835-e8693b77d487"
      },
      "execution_count": 3,
      "outputs": [
        {
          "output_type": "stream",
          "name": "stdout",
          "text": [
            "Masukkan tahun: 2100\n",
            "Tahun 2100 bukan tahun kabisat.\n"
          ]
        }
      ]
    }
  ]
}