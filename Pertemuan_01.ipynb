{
  "nbformat": 4,
  "nbformat_minor": 0,
  "metadata": {
    "colab": {
      "provenance": [],
      "authorship_tag": "ABX9TyPKicS4RCv6SyIOQCMtqA/+",
      "include_colab_link": true
    },
    "kernelspec": {
      "name": "python3",
      "display_name": "Python 3"
    },
    "language_info": {
      "name": "python"
    }
  },
  "cells": [
    {
      "cell_type": "markdown",
      "metadata": {
        "id": "view-in-github",
        "colab_type": "text"
      },
      "source": [
        "<a href=\"https://colab.research.google.com/github/jabhiro/Pemograman-Dasar/blob/main/Pertemuan_01.ipynb\" target=\"_parent\"><img src=\"https://colab.research.google.com/assets/colab-badge.svg\" alt=\"Open In Colab\"/></a>"
      ]
    },
    {
      "cell_type": "code",
      "execution_count": null,
      "metadata": {
        "colab": {
          "base_uri": "https://localhost:8080/"
        },
        "id": "OR1MyNG56y31",
        "outputId": "943a0a13-f4cb-4145-e073-13e6385eb52a"
      },
      "outputs": [
        {
          "output_type": "stream",
          "name": "stdout",
          "text": [
            "Rajab Mulya Kurnia Rachman\n",
            "21\n",
            "RPE\n",
            "3\n",
            "Pemerograman Dasar\n",
            "False\n"
          ]
        }
      ],
      "source": [
        "# Biodata Saya\n",
        "\n",
        "nama = \"Rajab Mulya Kurnia Rachman\"\n",
        "umur = 21\n",
        "jurusan = \"RPE\"\n",
        "semester = 3\n",
        "matakuliah = 'Pemerograman Dasar'\n",
        "status_lulus = False\n",
        "\n",
        "print (nama)\n",
        "print (umur)\n",
        "print (jurusan)\n",
        "print (semester)\n",
        "print (matakuliah)\n",
        "print (status_lulus)"
      ]
    },
    {
      "cell_type": "code",
      "source": [
        "# Biodata lanjutan mengenai saya\n",
        "agama = \"Islam\"\n",
        "asal = \"Batam\"\n",
        "suku = \"Palembang dan Jawa\"\n",
        "hobi = \"membaca buku, bermain roblox dan nge-gym\"\n",
        "filmfavorit = \"How to train your dragon, Kimetsu no Yaiba\"\n",
        "Nama_Kucing_Peliharaan = \"Ozi\"\n",
        "\n",
        "print (agama)\n",
        "print (asal)\n",
        "print (suku)\n",
        "print (hobi)\n",
        "print (filmfavorit)\n",
        "print (Nama_Kucing_Peliharaan)"
      ],
      "metadata": {
        "id": "P2dWuWBP8qz4",
        "colab": {
          "base_uri": "https://localhost:8080/"
        },
        "outputId": "612a3f70-580f-4aae-ad29-b8be14e79f25"
      },
      "execution_count": 1,
      "outputs": [
        {
          "output_type": "stream",
          "name": "stdout",
          "text": [
            "Islam\n",
            "Batam\n",
            "Palembang dan Jawa\n",
            "membaca buku, bermain roblox dan nge-gym\n",
            "How to train your dragon, Kimetsu no Yaiba\n",
            "Ozi\n"
          ]
        }
      ]
    }
  ]
}