{
  "nbformat": 4,
  "nbformat_minor": 0,
  "metadata": {
    "colab": {
      "provenance": [],
      "authorship_tag": "ABX9TyPA3Ych/4aUw9sQX+Ckw7wN",
      "include_colab_link": true
    },
    "kernelspec": {
      "name": "python3",
      "display_name": "Python 3"
    },
    "language_info": {
      "name": "python"
    }
  },
  "cells": [
    {
      "cell_type": "markdown",
      "metadata": {
        "id": "view-in-github",
        "colab_type": "text"
      },
      "source": [
        "<a href=\"https://colab.research.google.com/github/jabhiro/Pemograman-Dasar/blob/main/Praktikum_02.ipynb\" target=\"_parent\"><img src=\"https://colab.research.google.com/assets/colab-badge.svg\" alt=\"Open In Colab\"/></a>"
      ]
    },
    {
      "cell_type": "code",
      "execution_count": null,
      "metadata": {
        "colab": {
          "base_uri": "https://localhost:8080/"
        },
        "id": "DxIZSrasAaZw",
        "outputId": "2fbf5f5a-5eee-432d-9b74-e164900d65e7"
      },
      "outputs": [
        {
          "output_type": "stream",
          "name": "stdout",
          "text": [
            "15\n"
          ]
        }
      ],
      "source": [
        "# Deklarasi variabel list\n",
        "numbers = [23, 43, 15, 34]\n",
        "# Cara mengakses elemen dalam variabel list\n",
        "numbers[0] # 23\n",
        "numbers[1] # 43\n",
        "numbers[2] # 15\n",
        "numbers[3] # 34\n",
        "# Cara mengubah nilai elemen dalam variabel list\n",
        "numbers[2] # 51\n",
        "numbers[2] # 51\n",
        "\n",
        "print (numbers[2]) #lakukan untuk setiap indexnya dan lihat hasilnyas"
      ]
    },
    {
      "cell_type": "code",
      "source": [
        "# Deklarasi variabel list numbers\n",
        "numbers = [1, 2, 3]\n",
        "\n",
        "# Menambahkan elemen di indeks ke-4\n",
        "numbers.insert(4, 5)  # [1, 2, 3]\n",
        "\n",
        "# Mengubah elemen di indeks ke-4\n",
        "# numbers[3] = 4  #[1, 2, 3, 4]\n",
        "\n",
        "# Mengubah elemen di indeks ke-2\n",
        "# numbers.pop(2)  # [1, 2, 4]\n",
        "\n",
        "print(numbers)\n",
        "#print lalu lihat hasilnya"
      ],
      "metadata": {
        "colab": {
          "base_uri": "https://localhost:8080/"
        },
        "id": "Bxh06EaMC3TK",
        "outputId": "d498f41a-df0c-4e05-eac8-448f7079aad4"
      },
      "execution_count": null,
      "outputs": [
        {
          "output_type": "stream",
          "name": "stdout",
          "text": [
            "[1, 2, 3, 5]\n"
          ]
        }
      ]
    },
    {
      "cell_type": "code",
      "source": [
        "# deklarasi variabel list\n",
        "myList = [1, \"rumah\", 4.5, True, [\"Kamar Mandi\", \"Kamar Tidur\"]]\n",
        "\n",
        "# cara mengakses elemen dalam variabel list\n",
        "myList[0] #1\n",
        "myList[1] # \"rumah\"\n",
        "myList[2] # True\n",
        "myList[4] # [\"Kamar mandi\", \"Kamar tidur\"]\n",
        "\n",
        "# cara mengakses elemen dalam sublist\n",
        "myList[4][0] # \"kamar mandi\"\n",
        "myList[4][1] # \"Kamar tidur\"\n",
        "\n",
        "# Lakukan print lalu amati hasilnya"
      ],
      "metadata": {
        "colab": {
          "base_uri": "https://localhost:8080/",
          "height": 36
        },
        "id": "5iinnckvD0YB",
        "outputId": "5c9b1d84-608a-4234-a210-4d663c7edf46"
      },
      "execution_count": null,
      "outputs": [
        {
          "output_type": "execute_result",
          "data": {
            "text/plain": [
              "'Kamar Tidur'"
            ],
            "application/vnd.google.colaboratory.intrinsic+json": {
              "type": "string"
            }
          },
          "metadata": {},
          "execution_count": 11
        }
      ]
    },
    {
      "cell_type": "code",
      "source": [
        "# Slicing List\n",
        "x = [\"laptop\", \"monitor\", \"mouse\", \"mousepad\", \"keyboard\", \"webcam\", \"microphone\"]\n",
        "\n",
        "print(x[0:5:2])\n",
        "print(x[1:])\n",
        "print(x[:3])\n",
        "\n",
        "\"\"\"\n",
        "Output:\n",
        "['laptop', 'mouse', 'keyboard']\n",
        "['monitor', 'mouse', 'mousepad', 'keyboard', 'webcam', 'microphone']\n",
        "['laptop', 'monitor', 'mouse']\n",
        "\n",
        "\"\"\""
      ],
      "metadata": {
        "colab": {
          "base_uri": "https://localhost:8080/",
          "height": 88
        },
        "id": "l255fTniGGDK",
        "outputId": "a67b3e56-d8c7-4c96-eeae-e913aeaa6920"
      },
      "execution_count": null,
      "outputs": [
        {
          "output_type": "stream",
          "name": "stdout",
          "text": [
            "['laptop', 'mouse', 'keyboard']\n",
            "['monitor', 'mouse', 'mousepad', 'keyboard', 'webcam', 'microphone']\n",
            "['laptop', 'monitor', 'mouse']\n"
          ]
        },
        {
          "output_type": "execute_result",
          "data": {
            "text/plain": [
              "\"\\nOutput:\\n['laptop', 'mouse', 'keyboard']\\n['monitor', 'mouse', 'mousepad', 'keyboard', 'webcam', 'microphone']\\n['laptop', 'monitor', 'mouse']\\n\\n\""
            ],
            "application/vnd.google.colaboratory.intrinsic+json": {
              "type": "string"
            }
          },
          "metadata": {},
          "execution_count": 13
        }
      ]
    },
    {
      "cell_type": "code",
      "source": [
        "# Tuple\n",
        "x = (1, \"Polibatam\", 1+3j)\n",
        "print(type(x))\n",
        "\n",
        "\"\"\"\n",
        "Output:\n",
        "<class 'tuple'>\n",
        "\"\"\""
      ],
      "metadata": {
        "colab": {
          "base_uri": "https://localhost:8080/",
          "height": 53
        },
        "id": "Au4H3yOxHZuj",
        "outputId": "1556c51c-d3c8-44ae-8154-42c1da750acc"
      },
      "execution_count": null,
      "outputs": [
        {
          "output_type": "stream",
          "name": "stdout",
          "text": [
            "<class 'tuple'>\n"
          ]
        },
        {
          "output_type": "execute_result",
          "data": {
            "text/plain": [
              "\"\\nOutput:\\n<class 'tuple'>\\n\""
            ],
            "application/vnd.google.colaboratory.intrinsic+json": {
              "type": "string"
            }
          },
          "metadata": {},
          "execution_count": 15
        }
      ]
    },
    {
      "cell_type": "code",
      "source": [
        "# Indexing Tuple\n",
        "x = (5, 'program', 1+3j)\n",
        "print(x[1])\n",
        "print(x[0:3])\n",
        "\n",
        "\"\"\"\n",
        "Output:\n",
        "program\n",
        "(5, 'program', (1+3j))\n",
        "\n",
        "\"\"\""
      ],
      "metadata": {
        "colab": {
          "base_uri": "https://localhost:8080/",
          "height": 71
        },
        "id": "SeqWDfsCH4d7",
        "outputId": "be0141be-df32-48bd-b703-4d677e279606"
      },
      "execution_count": null,
      "outputs": [
        {
          "output_type": "stream",
          "name": "stdout",
          "text": [
            "program\n",
            "(5, 'program', (1+3j))\n"
          ]
        },
        {
          "output_type": "execute_result",
          "data": {
            "text/plain": [
              "\"\\nOutput:\\nprogram\\n(5, 'program', (1+3j))\\n\\n\""
            ],
            "application/vnd.google.colaboratory.intrinsic+json": {
              "type": "string"
            }
          },
          "metadata": {},
          "execution_count": 17
        }
      ]
    },
    {
      "cell_type": "code",
      "source": [
        "# Immutable Tuple\n",
        "x = (5, 'program, 1+3j)\n",
        "x[1] = 'Polibatam'\n",
        "\n",
        "\"\"\"\n",
        "Output:\n",
        "'tuple' object does not support item assignment\n",
        "\"\"\""
      ],
      "metadata": {
        "colab": {
          "base_uri": "https://localhost:8080/",
          "height": 109
        },
        "id": "-Azy8A__ITrK",
        "outputId": "372fdab2-5f57-428f-847b-bca902533d8d"
      },
      "execution_count": null,
      "outputs": [
        {
          "output_type": "error",
          "ename": "SyntaxError",
          "evalue": "unterminated string literal (detected at line 2) (ipython-input-236170990.py, line 2)",
          "traceback": [
            "\u001b[0;36m  File \u001b[0;32m\"/tmp/ipython-input-236170990.py\"\u001b[0;36m, line \u001b[0;32m2\u001b[0m\n\u001b[0;31m    x = (5, 'program, 1+3j)\u001b[0m\n\u001b[0m            ^\u001b[0m\n\u001b[0;31mSyntaxError\u001b[0m\u001b[0;31m:\u001b[0m unterminated string literal (detected at line 2)\n"
          ]
        }
      ]
    },
    {
      "cell_type": "code",
      "source": [
        "# deklarasi variabel tuple\n",
        "numbers = (23, 43, 15, 34)\n",
        "\n",
        "# cara mengakses elemen dalam variabel tuple\n",
        "numbers[0] # 23\n",
        "numbers[1] # 43\n",
        "numbers[2] # 15\n",
        "\n",
        "# lakukan print lalu amati hasilnya"
      ],
      "metadata": {
        "colab": {
          "base_uri": "https://localhost:8080/"
        },
        "id": "Cgi5LqQaJT46",
        "outputId": "f73db92f-5f35-476d-8e76-9a49ce632ee1"
      },
      "execution_count": null,
      "outputs": [
        {
          "output_type": "execute_result",
          "data": {
            "text/plain": [
              "15"
            ]
          },
          "metadata": {},
          "execution_count": 1
        }
      ]
    },
    {
      "cell_type": "code",
      "source": [
        "# SET\n",
        "# Deklarasi variabel set a dan b\n",
        "a = {1, 2, 3}\n",
        "b = {2, 3, 4}\n",
        "\n",
        "# operasi gabungan\n",
        "a.union(b)  # {1, 2, 3, 4}\n",
        "\n",
        "# operasi irisan\n",
        "a.intersection(b)  # {2, 3}\n",
        "\n",
        "# operasi perbedaan\n",
        "a.symmetric_difference(b)  # {1, 4}\n",
        "\n",
        "#lakukan print dan lihat hasilnya"
      ],
      "metadata": {
        "colab": {
          "base_uri": "https://localhost:8080/"
        },
        "id": "YqEXkBQJfxmL",
        "outputId": "6372d934-f4b7-4748-c13e-7ef4baa7cc4b"
      },
      "execution_count": null,
      "outputs": [
        {
          "output_type": "execute_result",
          "data": {
            "text/plain": [
              "{1, 4}"
            ]
          },
          "metadata": {},
          "execution_count": 2
        }
      ]
    },
    {
      "cell_type": "code",
      "source": [
        "# Dictionary\n",
        "x = { 'name': 'Perseus Evans', 'age' : 20, 'isMarried': False }\n",
        "print(type(x))\n",
        "\n",
        "x = { 'name': 'Perseus Evans', 'age' : 20, 'isMarried': False }\n",
        "print(x['name'])"
      ],
      "metadata": {
        "colab": {
          "base_uri": "https://localhost:8080/"
        },
        "id": "7av4XbdYgl14",
        "outputId": "abe9c77c-6fda-450b-da6e-59ea7782430f"
      },
      "execution_count": null,
      "outputs": [
        {
          "output_type": "stream",
          "name": "stdout",
          "text": [
            "<class 'dict'>\n",
            "Perseus Evans\n"
          ]
        }
      ]
    },
    {
      "cell_type": "code",
      "source": [
        "#_No indexing\n",
        "x = { 'name': 'Perseus Evans', 'age' : 20, 'isMarried': False }\n",
        "print(x[0])"
      ],
      "metadata": {
        "colab": {
          "base_uri": "https://localhost:8080/",
          "height": 181
        },
        "id": "Zhw7TtGriEeg",
        "outputId": "fcf29d3c-50c2-47cd-8ba7-5d389abd7b35"
      },
      "execution_count": null,
      "outputs": [
        {
          "output_type": "error",
          "ename": "KeyError",
          "evalue": "0",
          "traceback": [
            "\u001b[0;31m---------------------------------------------------------------------------\u001b[0m",
            "\u001b[0;31mKeyError\u001b[0m                                  Traceback (most recent call last)",
            "\u001b[0;32m/tmp/ipython-input-372695305.py\u001b[0m in \u001b[0;36m<cell line: 0>\u001b[0;34m()\u001b[0m\n\u001b[1;32m      1\u001b[0m \u001b[0;31m#_No indexing\u001b[0m\u001b[0;34m\u001b[0m\u001b[0;34m\u001b[0m\u001b[0m\n\u001b[1;32m      2\u001b[0m \u001b[0mx\u001b[0m \u001b[0;34m=\u001b[0m \u001b[0;34m{\u001b[0m \u001b[0;34m'name'\u001b[0m\u001b[0;34m:\u001b[0m \u001b[0;34m'Perseus Evans'\u001b[0m\u001b[0;34m,\u001b[0m \u001b[0;34m'age'\u001b[0m \u001b[0;34m:\u001b[0m \u001b[0;36m20\u001b[0m\u001b[0;34m,\u001b[0m \u001b[0;34m'isMarried'\u001b[0m\u001b[0;34m:\u001b[0m \u001b[0;32mFalse\u001b[0m \u001b[0;34m}\u001b[0m\u001b[0;34m\u001b[0m\u001b[0;34m\u001b[0m\u001b[0m\n\u001b[0;32m----> 3\u001b[0;31m \u001b[0mprint\u001b[0m\u001b[0;34m(\u001b[0m\u001b[0mx\u001b[0m\u001b[0;34m[\u001b[0m\u001b[0;36m0\u001b[0m\u001b[0;34m]\u001b[0m\u001b[0;34m)\u001b[0m\u001b[0;34m\u001b[0m\u001b[0;34m\u001b[0m\u001b[0m\n\u001b[0m",
            "\u001b[0;31mKeyError\u001b[0m: 0"
          ]
        }
      ]
    },
    {
      "cell_type": "code",
      "source": [
        "#_Menambah Data\n",
        "x = { 'name': 'Perseus Evans', 'age' : 20, 'isMarried': False }\n",
        "x ['job'] = \"Web Developer\"\n",
        "\n",
        "print(x)"
      ],
      "metadata": {
        "colab": {
          "base_uri": "https://localhost:8080/"
        },
        "id": "8AKB7414iFsE",
        "outputId": "edb420a5-c5c3-47c1-d048-6ae9fea63226"
      },
      "execution_count": null,
      "outputs": [
        {
          "output_type": "stream",
          "name": "stdout",
          "text": [
            "{'name': 'Perseus Evans', 'age': 20, 'isMarried': False, 'job': 'Web Developer'}\n"
          ]
        }
      ]
    },
    {
      "cell_type": "code",
      "source": [
        "#_Menghapus Data\n",
        "x = { 'name': 'Perseus Evans', 'age' : 20, 'isMarried': False }\n",
        "del x['isMarried']\n",
        "print(x)\n"
      ],
      "metadata": {
        "colab": {
          "base_uri": "https://localhost:8080/"
        },
        "id": "_qEmONcviXy6",
        "outputId": "7a6717b9-7c61-4c46-e60c-ac38e350db27"
      },
      "execution_count": null,
      "outputs": [
        {
          "output_type": "stream",
          "name": "stdout",
          "text": [
            "{'name': 'Perseus Evans', 'age': 20}\n"
          ]
        }
      ]
    },
    {
      "cell_type": "code",
      "source": [
        "#_Mengubah Data\n",
        "x = { 'name': 'Perseus Evans', 'age' : 20, 'isMarried': False }\n",
        "x ['name'] = \"Exvan\"\n",
        "print(x)"
      ],
      "metadata": {
        "colab": {
          "base_uri": "https://localhost:8080/"
        },
        "id": "2a4SEiClilHN",
        "outputId": "745a624a-3599-4d6c-ad74-8897e0443e7d"
      },
      "execution_count": null,
      "outputs": [
        {
          "output_type": "stream",
          "name": "stdout",
          "text": [
            "{'name': 'Exvan', 'age': 20, 'isMarried': False}\n"
          ]
        }
      ]
    },
    {
      "cell_type": "code",
      "source": [
        "# deklarasi variabel dictionary\n",
        "propertyDetail= {\"numFloors\": 1, \"propertyType\": \"Rumah\", \"hasTerrace\": True, \"hasGarage\": False}\n",
        "\n",
        "# cara mengakses elemen dalam variabel dictionary\n",
        "propertyDetail[\"numFloors\"]  #1\n",
        "propertyDetail[\"propertyType\"] # rumah\n",
        "propertyDetail[\"hasTerrace\"]  # True\n",
        "propertyDetail[\"hasGarage\"]  # False\n",
        "\n",
        "# cara mengubah nilai elemen dalam variabel dictionary\n",
        "propertyDetail[\"hasTerrace\"] = False\n",
        "propertyDetail[\"hasTerrace\"] # False\n",
        "\n",
        "# print(propertyDetail[\"propertyType\"])"
      ],
      "metadata": {
        "colab": {
          "base_uri": "https://localhost:8080/"
        },
        "id": "SGSvgN2Ti5Xm",
        "outputId": "9afcee52-bba8-4203-f5e4-52f6d459875a"
      },
      "execution_count": null,
      "outputs": [
        {
          "output_type": "execute_result",
          "data": {
            "text/plain": [
              "False"
            ]
          },
          "metadata": {},
          "execution_count": 22
        }
      ]
    }
  ]
}