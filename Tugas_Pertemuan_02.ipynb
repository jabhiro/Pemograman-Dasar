{
  "nbformat": 4,
  "nbformat_minor": 0,
  "metadata": {
    "colab": {
      "provenance": [],
      "authorship_tag": "ABX9TyNz8MR/bMFyIjJlohcM6g0r",
      "include_colab_link": true
    },
    "kernelspec": {
      "name": "python3",
      "display_name": "Python 3"
    },
    "language_info": {
      "name": "python"
    }
  },
  "cells": [
    {
      "cell_type": "markdown",
      "metadata": {
        "id": "view-in-github",
        "colab_type": "text"
      },
      "source": [
        "<a href=\"https://colab.research.google.com/github/jabhiro/Pemograman-Dasar/blob/main/Tugas_Pertemuan_02.ipynb\" target=\"_parent\"><img src=\"https://colab.research.google.com/assets/colab-badge.svg\" alt=\"Open In Colab\"/></a>"
      ]
    },
    {
      "cell_type": "code",
      "execution_count": null,
      "metadata": {
        "colab": {
          "base_uri": "https://localhost:8080/"
        },
        "id": "-zXcNlq-n46T",
        "outputId": "c5e5905e-e357-4986-fcf5-8f89026be07c"
      },
      "outputs": [
        {
          "output_type": "stream",
          "name": "stdout",
          "text": [
            "Rajab Rachman\n",
            "21\n",
            "False\n"
          ]
        }
      ],
      "source": [
        "# SOAL NO. 1\n",
        "firstName = \"Rajab\"\n",
        "LastName = \"Rachman\"\n",
        "age = 21\n",
        "isMarried = False\n",
        "\n",
        "print(firstName, LastName)\n",
        "print(age)\n",
        "print(isMarried)"
      ]
    },
    {
      "cell_type": "code",
      "source": [
        "# SOAL NO. 2\n",
        "data_diri = {\n",
        "\"firstName\": \"Rajab\",\n",
        "\"LastName\": \"Rachman\",\n",
        "\"age\": 21,\n",
        "\"isMarried\": False\n",
        "}\n",
        "\n",
        "print(data_diri)\n"
      ],
      "metadata": {
        "colab": {
          "base_uri": "https://localhost:8080/"
        },
        "id": "-MJYzk-hqbiG",
        "outputId": "20a8f401-3498-426a-f6e0-5f069a290630"
      },
      "execution_count": null,
      "outputs": [
        {
          "output_type": "stream",
          "name": "stdout",
          "text": [
            "{'firstName': 'Rajab', 'LastName': 'Rachman', 'age': 21, 'isMarried': False}\n"
          ]
        }
      ]
    },
    {
      "cell_type": "code",
      "source": [
        "# SOAL NO. 3\n",
        "inspeksi = [\n",
        "\"pemahaman terhadap rencana dan desain\",\n",
        "\"ketersediaan bahan dan peralatan\",\n",
        "\"pengawasan pekerjaan\",\n",
        "\"kualitas konstruksi\",\n",
        "\"keselamatan kerja\",\n",
        "\"koordinasi dengan pemilik proyek\"\n",
        "]\n",
        "\n",
        "print(inspeksi)"
      ],
      "metadata": {
        "colab": {
          "base_uri": "https://localhost:8080/"
        },
        "id": "Wi9g7lTarq_j",
        "outputId": "2f0f2517-6cc7-44d7-9927-267ca224d6cc"
      },
      "execution_count": null,
      "outputs": [
        {
          "output_type": "stream",
          "name": "stdout",
          "text": [
            "['pemahaman terhadap rencana dan desain', 'ketersediaan bahan dan peralatan', 'pengawasan pekerjaan', 'kualitas konstruksi', 'keselamatan kerja', 'koordinasi dengan pemilik proyek']\n"
          ]
        }
      ]
    },
    {
      "cell_type": "code",
      "source": [
        "# SOAL NO. 4\n",
        "startTime = {\n",
        "    \"HH\": 8,  # Jam (Hour)\n",
        "    \"mm\": 15, # Menit (Minute)\n",
        "    \"ss\": 4, # Detik (Second)\n",
        "}\n",
        "\n",
        "endTime = {\n",
        "    \"HH\": 9, # Jam (Hour)\n",
        "    \"mm\": 5, # Menit (Minute)\n",
        "    \"ss\": 4, # Detik (Second)\n",
        "}\n",
        "\n",
        "print('Waktu Datang:',f\"{startTime['HH']:02d}:{startTime['mm']:02d}:{startTime['ss']:02d}\")\n",
        "print('Waktu Pulamg:',f\"{endTime['HH']:02d}:{endTime['mm']:02d}:{endTime['ss']:02d}\")"
      ],
      "metadata": {
        "colab": {
          "base_uri": "https://localhost:8080/"
        },
        "id": "kLAgx3a8txar",
        "outputId": "ab5c7321-1ee2-415e-950e-2251ab0737b7"
      },
      "execution_count": null,
      "outputs": [
        {
          "output_type": "stream",
          "name": "stdout",
          "text": [
            "Waktu Datang: 08:15:04\n",
            "Waktu Pulamg: 09:05:04\n"
          ]
        }
      ]
    },
    {
      "cell_type": "code",
      "source": [
        "# SOAL NO. 5\n",
        "# Contoh Data yg saya ambil\n",
        "katalog_A = {\"Monitor\", \"Printer\", \"Mouse\", \"Keyboard\"}\n",
        "katalog_B = {\"Printer\", \"Mouse\", \"Headset\", \"Tas\"}\n",
        "produk_diskon = (\"Mouse\", \"Headset\")\n",
        "\n",
        "# menggabungkan katalog A dan B menjadi set katalog_lengkap\n",
        "katalog_lengkap = katalog_A.union(katalog_B)\n",
        "\n",
        "produk_promo_aktif = katalog_lengkap.intersection(produk_diskon)\n",
        "\n",
        "print(\"katalog_lengkap:\", katalog_lengkap)\n",
        "print(\"Produk promo aktif:\" , produk_promo_aktif)"
      ],
      "metadata": {
        "colab": {
          "base_uri": "https://localhost:8080/"
        },
        "id": "BDkzc6M_zZbJ",
        "outputId": "44827f1f-816f-406b-dc68-773261451899"
      },
      "execution_count": null,
      "outputs": [
        {
          "output_type": "stream",
          "name": "stdout",
          "text": [
            "katalog_lengkap: {'Printer', 'Tas', 'Headset', 'Keyboard', 'Monitor', 'Mouse'}\n",
            "Produk promo aktif: {'Headset', 'Mouse'}\n"
          ]
        }
      ]
    }
  ]
}